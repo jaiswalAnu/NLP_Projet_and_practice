{
  "nbformat": 4,
  "nbformat_minor": 0,
  "metadata": {
    "colab": {
      "provenance": []
    },
    "kernelspec": {
      "name": "python3",
      "display_name": "Python 3"
    },
    "language_info": {
      "name": "python"
    },
    "accelerator": "GPU",
    "gpuClass": "standard"
  },
  "cells": [
    {
      "cell_type": "markdown",
      "source": [
        "#Feature Extraction : Word Embedding : ELMo\n",
        "\"Embedding from Language Models\""
      ],
      "metadata": {
        "id": "g7TjHPV23zIq"
      }
    },
    {
      "cell_type": "code",
      "source": [
        "import tensorflow_hub as hub\n",
        "import tensorflow as tf\n",
        "print(tf.__version__)\n",
        "print(hub.__version__)"
      ],
      "metadata": {
        "id": "VQJ1mciN4C96",
        "colab": {
          "base_uri": "https://localhost:8080/"
        },
        "outputId": "02e2fe8d-83db-4b0f-b621-8e3f081962d5"
      },
      "execution_count": 14,
      "outputs": [
        {
          "output_type": "stream",
          "name": "stdout",
          "text": [
            "2.11.0\n",
            "0.12.0\n"
          ]
        }
      ]
    },
    {
      "cell_type": "code",
      "source": [
        "import pandas as pd\n",
        "data=pd.read_csv('/content/clean_data.csv')\n",
        "\n",
        "del data['Unnamed: 0']\n",
        "print(data.head())\n"
      ],
      "metadata": {
        "id": "UsbV-QJ2iQOz",
        "colab": {
          "base_uri": "https://localhost:8080/"
        },
        "outputId": "622207b8-5a56-455f-e854-544219b3c43c"
      },
      "execution_count": 15,
      "outputs": [
        {
          "output_type": "stream",
          "name": "stdout",
          "text": [
            "                                              review sentiment\n",
            "0  One reviewer mentioned after watching Oz episo...  positive\n",
            "1  A wonderful little production The filming tech...  positive\n",
            "2  I thought wonderful way spend time hot summer ...  positive\n",
            "3  Basically s family little boy Jake think s zom...  negative\n",
            "4  Petter Mattei Love Time Money visually stunnin...  positive\n"
          ]
        }
      ]
    },
    {
      "cell_type": "code",
      "source": [
        "train=data.review[:30000]\n",
        "test=data.review[30000:]\n"
      ],
      "metadata": {
        "id": "v9AqgdNUJ9X8"
      },
      "execution_count": 16,
      "outputs": []
    },
    {
      "cell_type": "code",
      "source": [
        "from sklearn.feature_extraction.text import CountVectorizer\n",
        "cv=CountVectorizer(min_df=0,max_df=1,binary=False,ngram_range=(1,3))"
      ],
      "metadata": {
        "id": "cQLliIdsK0HK"
      },
      "execution_count": 17,
      "outputs": []
    },
    {
      "cell_type": "code",
      "source": [
        "cv_train=cv.fit_transform(train)\n",
        "cv_test=cv.fit_transform(test)"
      ],
      "metadata": {
        "id": "MEAfcQ0CPtRX"
      },
      "execution_count": 18,
      "outputs": []
    },
    {
      "cell_type": "code",
      "source": [
        "print(cv_train)\n",
        "print(cv_test)"
      ],
      "metadata": {
        "colab": {
          "base_uri": "https://localhost:8080/"
        },
        "id": "Uug7Q02sP5xE",
        "outputId": "6468099a-3547-4521-f9dc-7834174cf990"
      },
      "execution_count": 19,
      "outputs": [
        {
          "output_type": "stream",
          "name": "stdout",
          "text": [
            "  (0, 3201593)\t1\n",
            "  (0, 8119)\t1\n",
            "  (0, 3201655)\t1\n",
            "  (0, 2256874)\t1\n",
            "  (0, 587865)\t1\n",
            "  (0, 4765268)\t1\n",
            "  (0, 4855821)\t1\n",
            "  (0, 1771805)\t1\n",
            "  (0, 1948505)\t1\n",
            "  (0, 4613371)\t1\n",
            "  (0, 3923084)\t1\n",
            "  (0, 3468056)\t1\n",
            "  (0, 2289392)\t1\n",
            "  (0, 633188)\t1\n",
            "  (0, 4419875)\t1\n",
            "  (0, 3169280)\t1\n",
            "  (0, 3798478)\t1\n",
            "  (0, 4117199)\t1\n",
            "  (0, 3253411)\t1\n",
            "  (0, 2638106)\t1\n",
            "  (0, 775299)\t1\n",
            "  (0, 1403803)\t1\n",
            "  (0, 694386)\t1\n",
            "  (0, 1760850)\t1\n",
            "  (0, 1668233)\t1\n",
            "  :\t:\n",
            "  (29999, 2532064)\t1\n",
            "  (29999, 201514)\t1\n",
            "  (29999, 4078265)\t1\n",
            "  (29999, 4787844)\t1\n",
            "  (29999, 927888)\t1\n",
            "  (29999, 3072929)\t1\n",
            "  (29999, 5158098)\t1\n",
            "  (29999, 1745002)\t1\n",
            "  (29999, 194561)\t1\n",
            "  (29999, 1916991)\t1\n",
            "  (29999, 4202638)\t1\n",
            "  (29999, 4553121)\t1\n",
            "  (29999, 2883077)\t1\n",
            "  (29999, 4203126)\t1\n",
            "  (29999, 4777647)\t1\n",
            "  (29999, 4365632)\t1\n",
            "  (29999, 994671)\t1\n",
            "  (29999, 4673774)\t1\n",
            "  (29999, 1094519)\t1\n",
            "  (29999, 3489046)\t1\n",
            "  (29999, 1820935)\t1\n",
            "  (29999, 827382)\t1\n",
            "  (29999, 3823834)\t1\n",
            "  (29999, 4496513)\t1\n",
            "  (29999, 2688011)\t1\n",
            "  (0, 472008)\t1\n",
            "  (0, 1080920)\t1\n",
            "  (0, 818207)\t1\n",
            "  (0, 3327154)\t1\n",
            "  (0, 1552559)\t1\n",
            "  (0, 1398499)\t1\n",
            "  (0, 2655186)\t1\n",
            "  (0, 2857878)\t1\n",
            "  (0, 2655936)\t1\n",
            "  (0, 3361656)\t1\n",
            "  (0, 2957764)\t1\n",
            "  (0, 2293933)\t1\n",
            "  (0, 335829)\t1\n",
            "  (0, 2237600)\t1\n",
            "  (0, 697243)\t1\n",
            "  (0, 1398501)\t1\n",
            "  (0, 2675276)\t1\n",
            "  (0, 654707)\t1\n",
            "  (0, 1398456)\t1\n",
            "  (0, 1189308)\t1\n",
            "  (0, 479885)\t1\n",
            "  (0, 1277545)\t1\n",
            "  (0, 2731462)\t1\n",
            "  (0, 1191898)\t1\n",
            "  (0, 318172)\t1\n",
            "  :\t:\n",
            "  (19999, 2624718)\t1\n",
            "  (19999, 3089831)\t1\n",
            "  (19999, 1263516)\t1\n",
            "  (19999, 2642206)\t1\n",
            "  (19999, 2874976)\t1\n",
            "  (19999, 1915390)\t1\n",
            "  (19999, 3628719)\t1\n",
            "  (19999, 2138357)\t1\n",
            "  (19999, 3594905)\t1\n",
            "  (19999, 2538893)\t1\n",
            "  (19999, 1335239)\t1\n",
            "  (19999, 3470852)\t1\n",
            "  (19999, 1460923)\t1\n",
            "  (19999, 3141564)\t1\n",
            "  (19999, 3315033)\t1\n",
            "  (19999, 3108160)\t1\n",
            "  (19999, 2027684)\t1\n",
            "  (19999, 2539515)\t1\n",
            "  (19999, 3478544)\t1\n",
            "  (19999, 1798276)\t1\n",
            "  (19999, 2675912)\t1\n",
            "  (19999, 945700)\t1\n",
            "  (19999, 3064445)\t1\n",
            "  (19999, 439507)\t1\n",
            "  (19999, 499201)\t1\n"
          ]
        }
      ]
    },
    {
      "cell_type": "code",
      "source": [
        "from sklearn import preprocessing\n",
        "label=preprocessing.LabelBinarizer()\n",
        "sentiment=label.fit_transform(data['sentiment'])"
      ],
      "metadata": {
        "id": "acrPMtMxPCpt"
      },
      "execution_count": 20,
      "outputs": []
    },
    {
      "cell_type": "code",
      "source": [
        "#print(sentiment)\n",
        "y_train=data.sentiment[:30000]\n",
        "y_test=data.sentiment[30000:]"
      ],
      "metadata": {
        "id": "nFOb3KRPRLrh"
      },
      "execution_count": 21,
      "outputs": []
    },
    {
      "cell_type": "code",
      "source": [
        "from sklearn.tree import DecisionTreeClassifier\n",
        "from sklearn import metrics\n",
        "\n",
        "clf= DecisionTreeClassifier()\n",
        "\n",
        "clf = clf.fit(cv_train,y_train)\n",
        "\n",
        "y_pred = clf.predict(cv_test)"
      ],
      "metadata": {
        "id": "Xdbf5A4ORSKF"
      },
      "execution_count": null,
      "outputs": []
    },
    {
      "cell_type": "code",
      "source": [
        "print(\"Accuracy_DT:\",metrics.accuracy_score(y_test, y_pred))"
      ],
      "metadata": {
        "id": "EIlsLV1DRwfS"
      },
      "execution_count": null,
      "outputs": []
    },
    {
      "cell_type": "code",
      "source": [
        "#SVM\n",
        "from sklearn.svm import SVC\n",
        "svclassifier = SVC(kernel='linear')\n",
        "svclassifier.fit(cv_train, y_train)"
      ],
      "metadata": {
        "id": "P__7E5Xrbc6q"
      },
      "execution_count": null,
      "outputs": []
    },
    {
      "cell_type": "code",
      "source": [
        "y_pred1 = svclassifier.predict(cv_test)\n",
        "print(\"Accuracy_SVM:\",metrics.accuracy_score(y_test, y_pred1))"
      ],
      "metadata": {
        "id": "xzKm_wMSbjA4"
      },
      "execution_count": null,
      "outputs": []
    }
  ]
}